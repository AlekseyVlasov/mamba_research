{
 "cells": [
  {
   "cell_type": "code",
   "execution_count": 1,
   "id": "51009dfb-e116-4c11-9c70-a1857d726fa7",
   "metadata": {},
   "outputs": [],
   "source": [
    "import sys\n",
    "import os\n",
    "\n",
    "sys.path.append('../src')"
   ]
  },
  {
   "cell_type": "code",
   "execution_count": 2,
   "id": "2504a385-98f2-4802-82e1-e00efc8a2f74",
   "metadata": {},
   "outputs": [
    {
     "name": "stderr",
     "output_type": "stream",
     "text": [
      "/home/aleksei_vlasov/miniconda3/envs/mamba_env/lib/python3.13/site-packages/tqdm/auto.py:21: TqdmWarning: IProgress not found. Please update jupyter and ipywidgets. See https://ipywidgets.readthedocs.io/en/stable/user_install.html\n",
      "  from .autonotebook import tqdm as notebook_tqdm\n"
     ]
    }
   ],
   "source": [
    "import argparse\n",
    "import torch\n",
    "import pytorch_warmup as warmup\n",
    "import wandb\n",
    "from tqdm import tqdm\n",
    "import yaml\n",
    "import sys\n",
    "import os\n",
    "import matplotlib.pyplot as plt\n",
    "\n",
    "import torch\n",
    "import torch.optim as optim\n",
    "import torch.nn as nn\n",
    "import numpy as np\n",
    "\n",
    "from mamba_ssm.models.config_mamba import MambaConfig\n",
    "\n",
    "from datasets import load_dataset\n",
    "from transformers import AutoTokenizer, DataCollatorWithPadding\n",
    "from torch.utils.data import DataLoader\n",
    "from peft import LoraConfig, get_peft_model\n",
    "\n",
    "from utils import print_model_size, fix_seed\n",
    "from models.MambaWithEmbeddings import MambaLMHeadModelWithEmbeddings\n",
    "from training_functions import add_special_token, inference"
   ]
  },
  {
   "cell_type": "code",
   "execution_count": 3,
   "id": "ac01284f-9c26-482e-a891-c47e4dd8fcab",
   "metadata": {},
   "outputs": [],
   "source": [
    "from data.InductionHeads import ICLDataModule"
   ]
  },
  {
   "cell_type": "code",
   "execution_count": null,
   "id": "b8e41624-932b-484a-a159-59e0afc56b0e",
   "metadata": {},
   "outputs": [],
   "source": []
  },
  {
   "cell_type": "code",
   "execution_count": 4,
   "id": "42236aae-12e4-4d8f-a664-371748953325",
   "metadata": {},
   "outputs": [],
   "source": [
    "def get_loader(input_length, vary_length=False):\n",
    "    module = ICLDataModule(\n",
    "        num_examples=1,\n",
    "        num_test_examples=4000,\n",
    "        vocab_size=16,\n",
    "        input_seq_len=input_length,\n",
    "        copy_method='induction_head',\n",
    "        # Default parameters\n",
    "        number_duplicates_per_epoch=0,\n",
    "        seed=42,\n",
    "        split_train_test=False,\n",
    "        induction_len=1,\n",
    "        induction_num_triggers=1,\n",
    "        allow_dot=False,\n",
    "        max_copy_len=10,\n",
    "        test_seq_len=None,\n",
    "        num_keys=1,\n",
    "        data_dir=None,\n",
    "        vary_length=vary_length\n",
    "    )\n",
    "    \n",
    "    module.setup()\n",
    "    \n",
    "    # dataloaders\n",
    "    test_dataloader = module.val_dataloader(batch_size=16)\n",
    "    return test_dataloader"
   ]
  },
  {
   "cell_type": "code",
   "execution_count": null,
   "id": "0037ac46-b135-45e5-bbd4-7d9dbb0d7c74",
   "metadata": {},
   "outputs": [],
   "source": []
  },
  {
   "cell_type": "code",
   "execution_count": 5,
   "id": "d13fdea6-ce9e-46c3-afb3-dd6cf6894f93",
   "metadata": {},
   "outputs": [
    {
     "name": "stderr",
     "output_type": "stream",
     "text": [
      "100%|████████████████████████████████████████████████████████████████████████████████████████████████████████████| 1/1 [00:00<00:00, 1365.78it/s]\n",
      "100%|█████████████████████████████████████████████████████████████████████████████████████████████████████| 4000/4000 [00:00<00:00, 11986.73it/s]\n"
     ]
    }
   ],
   "source": [
    "loader = get_loader(16, vary_length=False)"
   ]
  },
  {
   "cell_type": "code",
   "execution_count": 6,
   "id": "5633a7f7-6b96-4a8e-82c4-790ccb081ab1",
   "metadata": {},
   "outputs": [
    {
     "name": "stdout",
     "output_type": "stream",
     "text": [
      "[tensor([[10, 11,  8, 14,  9,  9,  1, 11,  5, 11, 15,  1,  6, 13,  2, 11, 15],\n",
      "        [ 3,  1,  2,  8, 14,  1,  9,  3,  2,  9, 15, 11,  6,  2, 11, 10, 15],\n",
      "        [ 8, 11,  1, 13, 12,  1,  1,  9,  5,  7, 15,  9, 11, 12,  9,  2, 15],\n",
      "        [13, 11,  6,  7,  2, 12, 15,  5,  5,  4,  3, 14, 11,  7,  2,  2, 15],\n",
      "        [12,  2,  5,  2,  5,  9,  2,  7, 15, 12, 10, 10, 12,  2, 14,  1, 15],\n",
      "        [14,  8, 14,  4,  8, 13,  7,  4, 12,  6, 15, 14,  3,  5,  1,  6, 15],\n",
      "        [ 1,  6,  6,  2, 15,  2, 12,  6,  3,  9, 13, 14, 13, 13,  5,  8, 15],\n",
      "        [12, 10, 13,  4, 10, 13,  5, 12, 14, 15,  3,  4, 10, 13,  1,  5, 15],\n",
      "        [ 4,  9, 11,  7,  9, 13,  2,  7, 13,  6, 13, 15,  6, 14,  3,  5, 15],\n",
      "        [ 5,  1,  5,  8, 14,  3,  1, 15,  9,  9,  5,  1, 13,  8, 11,  6, 15],\n",
      "        [ 1,  1,  1, 11, 12, 12,  8,  6, 15, 11, 12, 14, 14, 10,  3, 14, 15],\n",
      "        [14,  6, 11, 11, 15, 13, 11, 13,  6, 12,  5, 14,  1,  9,  2, 11, 15],\n",
      "        [ 8,  2,  9,  8,  1, 13, 10,  1, 14,  3,  1,  6, 15,  8,  5,  3, 15],\n",
      "        [ 6, 14, 10,  9,  7,  7,  5,  2, 12, 13, 14, 15, 14, 10,  6, 13, 15],\n",
      "        [14,  3,  1,  2, 12, 14,  9, 15, 11,  8, 13,  7,  6, 11, 11,  5, 15],\n",
      "        [10, 15, 10, 13, 14,  9, 11,  1,  6,  5, 12, 10,  9, 14,  2, 14, 15]]), tensor([ 1, 11,  9,  5, 12, 14,  2,  3,  6,  9, 11, 13,  8, 14, 11, 10])]\n",
      "<class 'torch.Tensor'>\n",
      "<class 'torch.Tensor'>\n"
     ]
    }
   ],
   "source": [
    "for batch in loader:\n",
    "    print(batch)\n",
    "    print(type(batch[0]))\n",
    "    print(type(batch[1]))\n",
    "    break"
   ]
  },
  {
   "cell_type": "code",
   "execution_count": null,
   "id": "3ec69582-0e92-4289-95b6-2e768701c3a4",
   "metadata": {},
   "outputs": [],
   "source": []
  },
  {
   "cell_type": "code",
   "execution_count": 7,
   "id": "64ed8404-c35f-4fcf-b02c-ee723b4d3538",
   "metadata": {},
   "outputs": [],
   "source": [
    "gpu_number = 4\n",
    "device = torch.device(f'cuda:{gpu_number}' if torch.cuda.is_available() else 'cpu')"
   ]
  },
  {
   "cell_type": "code",
   "execution_count": 8,
   "id": "88fbf4e3-7bfd-484c-9463-41d380835dc5",
   "metadata": {},
   "outputs": [],
   "source": [
    "model = torch.load(f'../models/mamba_16.pth', weights_only=False).to(device)"
   ]
  },
  {
   "cell_type": "code",
   "execution_count": null,
   "id": "ca351434-dcb7-45b9-aa76-bfa6c702fbba",
   "metadata": {},
   "outputs": [],
   "source": []
  },
  {
   "cell_type": "code",
   "execution_count": 13,
   "id": "b274883d-11c2-4ac7-bfb2-156157687f21",
   "metadata": {},
   "outputs": [],
   "source": [
    "num_tokens = 10\n",
    "period = 40"
   ]
  },
  {
   "cell_type": "code",
   "execution_count": 14,
   "id": "59696ffa-86e7-4068-b2f6-c67530d318c9",
   "metadata": {},
   "outputs": [],
   "source": [
    "special_period = torch.load(f'../models/period_{num_tokens}.pth', weights_only=False).to(device)\n",
    "special_prefix = torch.load(f'../models/prefix_{num_tokens}.pth', weights_only=False).to(device)\n",
    "\n",
    "criterion = nn.CrossEntropyLoss()"
   ]
  },
  {
   "cell_type": "code",
   "execution_count": 15,
   "id": "cce3ea50-4df3-4e9d-831e-b7452ba09587",
   "metadata": {},
   "outputs": [
    {
     "name": "stderr",
     "output_type": "stream",
     "text": [
      "100%|████████████████████████████████████████████████████████████████████████████████████████████████████████████| 1/1 [00:00<00:00, 1160.25it/s]\n",
      "100%|██████████████████████████████████████████████████████████████████████████████████████████████████████| 4000/4000 [00:00<00:00, 8979.31it/s]\n",
      "Inference: 100%|████████████████████████████████████████████████████████████████████████████| 250/250 [00:00<00:00, 331.06it/s, Loss (batch)=0.3]\n",
      "Inference: 100%|██████████████████████████████████████████████████████████████████████████| 250/250 [00:00<00:00, 338.64it/s, Loss (batch)=0.563]\n",
      "100%|████████████████████████████████████████████████████████████████████████████████████████████████████████████| 1/1 [00:00<00:00, 1558.64it/s]\n",
      "100%|██████████████████████████████████████████████████████████████████████████████████████████████████████| 4000/4000 [00:00<00:00, 8260.50it/s]\n",
      "Inference: 100%|███████████████████████████████████████████████████████████████████████████| 250/250 [00:00<00:00, 327.87it/s, Loss (batch)=1.41]\n",
      "Inference: 100%|███████████████████████████████████████████████████████████████████████████| 250/250 [00:00<00:00, 337.13it/s, Loss (batch)=1.22]\n",
      "100%|████████████████████████████████████████████████████████████████████████████████████████████████████████████| 1/1 [00:00<00:00, 1723.21it/s]\n",
      "100%|██████████████████████████████████████████████████████████████████████████████████████████████████████| 4000/4000 [00:00<00:00, 6242.00it/s]\n",
      "Inference: 100%|███████████████████████████████████████████████████████████████████████████| 250/250 [00:00<00:00, 319.10it/s, Loss (batch)=1.84]\n",
      "Inference: 100%|███████████████████████████████████████████████████████████████████████████| 250/250 [00:00<00:00, 338.87it/s, Loss (batch)=3.28]\n",
      "100%|████████████████████████████████████████████████████████████████████████████████████████████████████████████| 1/1 [00:00<00:00, 1462.45it/s]\n",
      "100%|██████████████████████████████████████████████████████████████████████████████████████████████████████| 4000/4000 [00:00<00:00, 4141.94it/s]\n",
      "Inference: 100%|███████████████████████████████████████████████████████████████████████████| 250/250 [00:00<00:00, 312.29it/s, Loss (batch)=3.11]\n",
      "Inference: 100%|███████████████████████████████████████████████████████████████████████████| 250/250 [00:00<00:00, 357.18it/s, Loss (batch)=4.27]\n",
      "100%|████████████████████████████████████████████████████████████████████████████████████████████████████████████| 1/1 [00:00<00:00, 1301.37it/s]\n",
      "100%|██████████████████████████████████████████████████████████████████████████████████████████████████████| 4000/4000 [00:01<00:00, 2504.87it/s]\n",
      "Inference: 100%|███████████████████████████████████████████████████████████████████████████| 250/250 [00:00<00:00, 284.19it/s, Loss (batch)=3.69]\n",
      "Inference: 100%|████████████████████████████████████████████████████████████████████████████| 250/250 [00:00<00:00, 333.45it/s, Loss (batch)=5.6]\n",
      "100%|█████████████████████████████████████████████████████████████████████████████████████████████████████████████| 1/1 [00:00<00:00, 821.77it/s]\n",
      "100%|██████████████████████████████████████████████████████████████████████████████████████████████████████| 4000/4000 [00:02<00:00, 1412.50it/s]\n",
      "Inference: 100%|███████████████████████████████████████████████████████████████████████████| 250/250 [00:01<00:00, 246.72it/s, Loss (batch)=3.98]\n",
      "Inference: 100%|███████████████████████████████████████████████████████████████████████████| 250/250 [00:00<00:00, 331.62it/s, Loss (batch)=6.88]\n",
      "100%|█████████████████████████████████████████████████████████████████████████████████████████████████████████████| 1/1 [00:00<00:00, 584.73it/s]\n",
      "100%|███████████████████████████████████████████████████████████████████████████████████████████████████████| 4000/4000 [00:05<00:00, 747.20it/s]\n",
      "Inference: 100%|███████████████████████████████████████████████████████████████████████████| 250/250 [00:01<00:00, 195.77it/s, Loss (batch)=3.51]\n",
      "Inference: 100%|████████████████████████████████████████████████████████████████████████████| 250/250 [00:00<00:00, 326.50it/s, Loss (batch)=6.3]\n"
     ]
    }
   ],
   "source": [
    "input_lengths = []\n",
    "accuracy_periods = []\n",
    "accuracy_prefixes = []\n",
    "\n",
    "for input_length in [64, 128, 256, 512, 1024, 2048, 4096]:\n",
    "    test_dataloader = get_loader(input_length, vary_length=False)\n",
    "\n",
    "    test_loss, test_accuracy_period = inference(\n",
    "        model, test_dataloader, device, criterion=criterion, num_last_tokens=1, special_token=special_period, period=period, log=False\n",
    "    )\n",
    "\n",
    "    test_loss, test_accuracy_prefix = inference(\n",
    "        model, test_dataloader, device, criterion=criterion, num_last_tokens=1, special_token=special_prefix, period=-1, log=False\n",
    "    )\n",
    "\n",
    "    input_lengths.append(input_length)\n",
    "    accuracy_periods.append(test_accuracy_period)\n",
    "    accuracy_prefixes.append(test_accuracy_prefix)"
   ]
  },
  {
   "cell_type": "code",
   "execution_count": 16,
   "id": "cb73f4db-c313-47de-9078-29a93576e2d2",
   "metadata": {},
   "outputs": [
    {
     "data": {
      "image/png": "[encoded data removed]",
      "text/plain": [
       "<Figure size 800x600 with 1 Axes>"
      ]
     },
     "metadata": {},
     "output_type": "display_data"
    }
   ],
   "source": [
    "plt.figure(figsize=(8, 6))\n",
    "plt.plot(input_lengths, accuracy_periods, marker='o', label='Accuracy (Period)')\n",
    "plt.plot(input_lengths, accuracy_prefixes, marker='s', label='Accuracy (Prefix)')\n",
    "plt.xlabel('Input Length')\n",
    "plt.ylabel('Accuracy')\n",
    "plt.title('Accuracy vs Input Length')\n",
    "plt.legend()\n",
    "plt.grid(True)\n",
    "plt.show()"
   ]
  },
  {
   "cell_type": "code",
   "execution_count": null,
   "id": "c6f5cde2-efac-4ca0-b5d4-1f1edd09e1e4",
   "metadata": {},
   "outputs": [],
   "source": []
  }
 ],
 "metadata": {
  "kernelspec": {
   "display_name": "Python (mamba_env)",
   "language": "python",
   "name": "mamba_env"
  },
  "language_info": {
   "codemirror_mode": {
    "name": "ipython",
    "version": 3
   },
   "file_extension": ".py",
   "mimetype": "text/x-python",
   "name": "python",
   "nbconvert_exporter": "python",
   "pygments_lexer": "ipython3",
   "version": "3.13.1"
  }
 },
 "nbformat": 4,
 "nbformat_minor": 5
}
